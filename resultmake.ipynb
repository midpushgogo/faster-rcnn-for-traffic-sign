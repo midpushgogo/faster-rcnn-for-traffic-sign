{
 "cells": [
  {
   "cell_type": "code",
   "execution_count": null,
   "metadata": {},
   "outputs": [],
   "source": [
    "import pandas as pd\n",
    "with open('result1.txt','r') as fi:\n",
    "    result1=pd.read_table(fi,header=None)\n",
    "result1=result1[0].str.split(';',expand=True)\n",
    "with open('result2.txt','r') as fi:\n",
    "    result2=pd.read_table(fi,header=None)\n",
    "result2=result2[0].str.split(';',expand=True)\n",
    "with open('result3.txt','r') as fi:\n",
    "    result3=pd.read_table(fi,header=None)\n",
    "result3=result3[0].str.split(';',expand=True)\n"
   ]
  },
  {
   "cell_type": "code",
   "execution_count": null,
   "metadata": {
    "scrolled": true
   },
   "outputs": [],
   "source": [
    "#分割\n",
    "result1 = result1[(True^result1[5].isin(['danger', 'prohibitory', 'mandatory', 'other2', 'other1', 'other4']))]\n",
    "result2 = result2[(True^result2[5].isin(['danger', 'prohibitory', 'other3', 'other4']))]\n",
    "result3 = result3[(True^result3[5].isin(['other', 'mandatory']))]"
   ]
  },
  {
   "cell_type": "code",
   "execution_count": null,
   "metadata": {
    "scrolled": true
   },
   "outputs": [],
   "source": [
    "#连接并按照索引排序\n",
    "result = pd.concat([result1,result2,result3])\n",
    "result.set_index(0, inplace = True)\n",
    "result=result.sort_index()\n"
   ]
  },
  {
   "cell_type": "code",
   "execution_count": null,
   "metadata": {
    "scrolled": true
   },
   "outputs": [],
   "source": [
    "#写result文件\n",
    "with open('result_ensemble.txt','w') as fi:\n",
    "    for i,j in result.iterrows():\n",
    "        print(j)\n",
    "        if str(j[5]) == 'other1' or str(j[5]) == 'other2' or str(j[5]) == 'other3' or str(j[5]) == 'other4':\n",
    "            j[5] = 'other'\n",
    "        st=str(i)+';'+str(j[1])+';'+str(j[2])+';'+str(j[3])+';'+str(j[4])+';'+str(j[5])\n",
    "        fi.write(st)\n",
    "        fi.write('\\n')\n",
    "   "
   ]
  },
  {
   "cell_type": "code",
   "execution_count": null,
   "metadata": {},
   "outputs": [],
   "source": [
    "#测试集画框\n",
    "import cv2\n",
    "for i,j in result.iterrows():\n",
    "    fname = 'images/' + i\n",
    "    img = cv2.imread(fname)\n",
    "    # 画矩形框\n",
    "    cv2.rectangle(img, (int(j[1]), int(j[2])), (int(j[3]), int(j[4])), (0,255,0), 4)\n",
    "    # 标注文本\n",
    "    #font = cv2.FONT_HERSHEY_SUPLEX\n",
    "    #text = j[5]\n",
    "    #cv2.putText(img, text, (212, 310), 2, (0,0,255), 1)\n",
    "    #cv2.imwrite('001_new.jpg', img)\n",
    "    cv2.imshow('image', img)\n",
    "    cv2.waitKey(0)"
   ]
  },
  {
   "cell_type": "code",
   "execution_count": null,
   "metadata": {
    "scrolled": true
   },
   "outputs": [],
   "source": [
    "from keras_frcnn.visualize import draw_boxes_and_label_on_image_cv2\n",
    "import numpy as np\n",
    "class_map = {1: 'a'}\n",
    "for i,j in result.iterrows():\n",
    "    i = 'images/' + i\n",
    "    img_map = {1: [j[1:5],1.0]}\n",
    "    print(img_map)\n",
    "    img = draw_boxes_and_label_on_image_cv2(i, class_map, img_map)\n",
    "    print('Elapsed time = {}'.format(time.time() - st))\n",
    "    #cv2.imshow('image', img)\n",
    "    #result_path = './results3_images/{}.png'.format(os.path.basename(img_path).split('.')[0])\n",
    "    print('result saved into ', result_path)\n",
    "    #cv2.imwrite(result_path, img)\n",
    "    cv2.imshow('image', img)\n",
    "    cv2.waitKey(0)"
   ]
  },
  {
   "cell_type": "code",
   "execution_count": null,
   "metadata": {},
   "outputs": [],
   "source": [
    "dic={}\n",
    "for i in  [0, 1, 2, 3, 4, 5, 7, 8, 9, 10, 15, 16]:\n",
    "    dic[str(i)]='prohibitory'\n",
    "for i in [33, 34, 35, 36, 37, 38, 39, 40]:\n",
    "    dic[str(i)]='mandatory'\n",
    "for i in [11, 18, 19, 20 ,21, 22, 23, 24, 25, 26, 27, 28, 29, 30, 31]:\n",
    "    dic[str(i)]='danger'\n",
    "for i in [12,13,14,17,6,32,41,42]:\n",
    "    dic[str(i)]='other'\n",
    "\n",
    "print(dic)"
   ]
  },
  {
   "cell_type": "code",
   "execution_count": null,
   "metadata": {},
   "outputs": [],
   "source": [
    "lis=[]\n",
    "for i,j in txt.iterrows():\n",
    "    re='images/'+j[0][:-3]+'jpg'+','+j[1]+','+j[2]+','+j[3]+','+j[4]+','+j[5]\n",
    "    lis.append(re)\n",
    "print(lis)\n",
    "with open('tt.txt','w') as f:\n",
    "    for i in lis:\n",
    "        f.write(i)\n",
    "        f.write('\\n')"
   ]
  },
  {
   "cell_type": "code",
   "execution_count": null,
   "metadata": {},
   "outputs": [],
   "source": [
    "import pandas as pd\n",
    "with open('kitti_simple_label.txt','r') as fi:\n",
    "    txt=pd.read_table(fi,header=None)\n",
    "txt=txt[0].str.split(',',expand=True)\n",
    "print(txt)"
   ]
  },
  {
   "cell_type": "code",
   "execution_count": null,
   "metadata": {},
   "outputs": [],
   "source": [
    "import matplotlib.pyplot as plt\n",
    "w=[]\n",
    "h=[]\n",
    "for i ,j in txt.iterrows():\n",
    "    w.append(int(j[3])-int(j[1]))\n",
    "    h.append(int(j[4])-int(j[2]))\n",
    "\n",
    "plt.scatter(w, h,alpha=1)\n",
    "\n",
    "plt.show()"
   ]
  }
 ],
 "metadata": {
  "kernelspec": {
   "display_name": "Python 3",
   "language": "python",
   "name": "python3"
  },
  "language_info": {
   "codemirror_mode": {
    "name": "ipython",
    "version": 3
   },
   "file_extension": ".py",
   "mimetype": "text/x-python",
   "name": "python",
   "nbconvert_exporter": "python",
   "pygments_lexer": "ipython3",
   "version": "3.6.2"
  }
 },
 "nbformat": 4,
 "nbformat_minor": 2
}
